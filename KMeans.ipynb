{
 "cells": [
  {
   "cell_type": "code",
   "execution_count": 42,
   "metadata": {
    "collapsed": true
   },
   "outputs": [],
   "source": [
    "%matplotlib inline"
   ]
  },
  {
   "cell_type": "code",
   "execution_count": 43,
   "metadata": {
    "collapsed": true
   },
   "outputs": [],
   "source": [
    "import pandas as pd"
   ]
  },
  {
   "cell_type": "code",
   "execution_count": 44,
   "metadata": {
    "collapsed": true
   },
   "outputs": [],
   "source": [
    "from sklearn import datasets"
   ]
  },
  {
   "cell_type": "code",
   "execution_count": 45,
   "metadata": {
    "collapsed": true
   },
   "outputs": [],
   "source": [
    "from sklearn.cluster import KMeans"
   ]
  },
  {
   "cell_type": "code",
   "execution_count": 46,
   "metadata": {
    "collapsed": true
   },
   "outputs": [],
   "source": [
    "import numpy as np"
   ]
  },
  {
   "cell_type": "code",
   "execution_count": 47,
   "metadata": {
    "collapsed": true
   },
   "outputs": [],
   "source": [
    "from scipy.stats import zscore"
   ]
  },
  {
   "cell_type": "code",
   "execution_count": 48,
   "metadata": {
    "collapsed": true
   },
   "outputs": [],
   "source": [
    "from sklearn.metrics import silhouette_score"
   ]
  },
  {
   "cell_type": "code",
   "execution_count": 49,
   "metadata": {
    "collapsed": false
   },
   "outputs": [],
   "source": [
    "model = KMeans(n_clusters = 3)"
   ]
  },
  {
   "cell_type": "code",
   "execution_count": 50,
   "metadata": {
    "collapsed": true
   },
   "outputs": [],
   "source": [
    "teens_df = pd.read_csv(\"D:\\ML-Data\\snsdata.csv\")"
   ]
  },
  {
   "cell_type": "code",
   "execution_count": 51,
   "metadata": {
    "collapsed": false
   },
   "outputs": [
    {
     "name": "stdout",
     "output_type": "stream",
     "text": [
      "30000\n",
      "40\n"
     ]
    }
   ],
   "source": [
    "teens_df_rows , teens_df_cols = teens_df.shape\n",
    "print(teens_df_rows)\n",
    "print(teens_df_cols)"
   ]
  },
  {
   "cell_type": "markdown",
   "metadata": {},
   "source": [
    "Check for missing values in the columns"
   ]
  },
  {
   "cell_type": "code",
   "execution_count": 52,
   "metadata": {
    "collapsed": true
   },
   "outputs": [],
   "source": [
    "## for col in teens_df:\n",
    "##    print (col)\n",
    "##    print (teens_df[col].value_counts(dropna=False))"
   ]
  },
  {
   "cell_type": "code",
   "execution_count": 53,
   "metadata": {
    "collapsed": true
   },
   "outputs": [],
   "source": [
    "teens_df = teens_df.fillna({'age': teens_df.age.mean()})       ## Crude way of addresssing missing value cases                                                                                                      "
   ]
  },
  {
   "cell_type": "markdown",
   "metadata": {},
   "source": [
    "Think of a better strategy of handling missing values in age.... could we have guessed the age from any other column?\n",
    "\n",
    "In the folowing line, interest columns are extrated and stored in separate dataframe called interest_df. These columns will form the dimensions for the cluster analysis. Notice, the interest column seem to be some kind of relative weights and since we don't know what is the range of weights, we will scale all the interest columns"
   ]
  },
  {
   "cell_type": "code",
   "execution_count": 54,
   "metadata": {
    "collapsed": false
   },
   "outputs": [],
   "source": [
    "interest_df = teens_df.loc[:, 'basketball':'drugs']"
   ]
  },
  {
   "cell_type": "code",
   "execution_count": 55,
   "metadata": {
    "collapsed": false
   },
   "outputs": [],
   "source": [
    "interest_df_z = interest_df.apply(zscore)"
   ]
  },
  {
   "cell_type": "markdown",
   "metadata": {},
   "source": [
    "interest_df_z"
   ]
  },
  {
   "cell_type": "markdown",
   "metadata": {
    "collapsed": false
   },
   "source": [
    "Let us look for 5 clusters. Why 5? Discuss "
   ]
  },
  {
   "cell_type": "code",
   "execution_count": 56,
   "metadata": {
    "collapsed": true
   },
   "outputs": [],
   "source": [
    "import matplotlib.pyplot as plt\n",
    "from matplotlib import cm"
   ]
  },
  {
   "cell_type": "code",
   "execution_count": 57,
   "metadata": {
    "collapsed": false
   },
   "outputs": [
    {
     "data": {
      "text/html": [
       "<div>\n",
       "<style>\n",
       "    .dataframe thead tr:only-child th {\n",
       "        text-align: right;\n",
       "    }\n",
       "\n",
       "    .dataframe thead th {\n",
       "        text-align: left;\n",
       "    }\n",
       "\n",
       "    .dataframe tbody tr th {\n",
       "        vertical-align: top;\n",
       "    }\n",
       "</style>\n",
       "<table border=\"1\" class=\"dataframe\">\n",
       "  <thead>\n",
       "    <tr style=\"text-align: right;\">\n",
       "      <th></th>\n",
       "      <th>cluster_errors</th>\n",
       "      <th>num_clusters</th>\n",
       "    </tr>\n",
       "  </thead>\n",
       "  <tbody>\n",
       "    <tr>\n",
       "      <th>0</th>\n",
       "      <td>1.080000e+06</td>\n",
       "      <td>1</td>\n",
       "    </tr>\n",
       "    <tr>\n",
       "      <th>1</th>\n",
       "      <td>1.023758e+06</td>\n",
       "      <td>2</td>\n",
       "    </tr>\n",
       "    <tr>\n",
       "      <th>2</th>\n",
       "      <td>9.941142e+05</td>\n",
       "      <td>3</td>\n",
       "    </tr>\n",
       "    <tr>\n",
       "      <th>3</th>\n",
       "      <td>9.677880e+05</td>\n",
       "      <td>4</td>\n",
       "    </tr>\n",
       "    <tr>\n",
       "      <th>4</th>\n",
       "      <td>9.386836e+05</td>\n",
       "      <td>5</td>\n",
       "    </tr>\n",
       "    <tr>\n",
       "      <th>5</th>\n",
       "      <td>9.220580e+05</td>\n",
       "      <td>6</td>\n",
       "    </tr>\n",
       "    <tr>\n",
       "      <th>6</th>\n",
       "      <td>8.924490e+05</td>\n",
       "      <td>7</td>\n",
       "    </tr>\n",
       "    <tr>\n",
       "      <th>7</th>\n",
       "      <td>8.724097e+05</td>\n",
       "      <td>8</td>\n",
       "    </tr>\n",
       "    <tr>\n",
       "      <th>8</th>\n",
       "      <td>8.691173e+05</td>\n",
       "      <td>9</td>\n",
       "    </tr>\n",
       "    <tr>\n",
       "      <th>9</th>\n",
       "      <td>8.407002e+05</td>\n",
       "      <td>10</td>\n",
       "    </tr>\n",
       "    <tr>\n",
       "      <th>10</th>\n",
       "      <td>8.270899e+05</td>\n",
       "      <td>11</td>\n",
       "    </tr>\n",
       "    <tr>\n",
       "      <th>11</th>\n",
       "      <td>8.168934e+05</td>\n",
       "      <td>12</td>\n",
       "    </tr>\n",
       "    <tr>\n",
       "      <th>12</th>\n",
       "      <td>8.007204e+05</td>\n",
       "      <td>13</td>\n",
       "    </tr>\n",
       "    <tr>\n",
       "      <th>13</th>\n",
       "      <td>7.828451e+05</td>\n",
       "      <td>14</td>\n",
       "    </tr>\n",
       "  </tbody>\n",
       "</table>\n",
       "</div>"
      ],
      "text/plain": [
       "    cluster_errors  num_clusters\n",
       "0     1.080000e+06             1\n",
       "1     1.023758e+06             2\n",
       "2     9.941142e+05             3\n",
       "3     9.677880e+05             4\n",
       "4     9.386836e+05             5\n",
       "5     9.220580e+05             6\n",
       "6     8.924490e+05             7\n",
       "7     8.724097e+05             8\n",
       "8     8.691173e+05             9\n",
       "9     8.407002e+05            10\n",
       "10    8.270899e+05            11\n",
       "11    8.168934e+05            12\n",
       "12    8.007204e+05            13\n",
       "13    7.828451e+05            14"
      ]
     },
     "execution_count": 57,
     "metadata": {},
     "output_type": "execute_result"
    }
   ],
   "source": [
    "cluster_range = range( 1, 15 )\n",
    "cluster_errors = []\n",
    "for num_clusters in cluster_range:\n",
    "  clusters = KMeans( num_clusters, n_init = 5 )\n",
    "  clusters.fit(interest_df_z)\n",
    "  labels = clusters.labels_\n",
    "  centroids = clusters.cluster_centers_\n",
    "  cluster_errors.append( clusters.inertia_ )\n",
    "clusters_df = pd.DataFrame( { \"num_clusters\":cluster_range, \"cluster_errors\": cluster_errors } )\n",
    "clusters_df[0:15]"
   ]
  },
  {
   "cell_type": "markdown",
   "metadata": {},
   "source": [
    "The total sum of squared distances of every data point from respective centroid is also called inertia. Let us print the inertia value for all K values. That K at which the inertia stop to drop significantly (elbow method) will be the best K."
   ]
  },
  {
   "cell_type": "code",
   "execution_count": 58,
   "metadata": {
    "collapsed": false
   },
   "outputs": [
    {
     "data": {
      "text/plain": [
       "[<matplotlib.lines.Line2D at 0x1e8819c35c0>]"
      ]
     },
     "execution_count": 58,
     "metadata": {},
     "output_type": "execute_result"
    },
    {
     "data": {
      "image/png": "[encoded data removed]",
      "text/plain": [
       "<matplotlib.figure.Figure at 0x1e880008ac8>"
      ]
     },
     "metadata": {},
     "output_type": "display_data"
    }
   ],
   "source": [
    "# Elbow plot\n",
    "\n",
    "plt.figure(figsize=(12,6))\n",
    "plt.plot( clusters_df.num_clusters, clusters_df.cluster_errors, marker = \"o\" )"
   ]
  },
  {
   "cell_type": "code",
   "execution_count": 59,
   "metadata": {
    "collapsed": false
   },
   "outputs": [],
   "source": [
    "kmeans = KMeans(n_clusters=10, n_init = 15, random_state=2345)"
   ]
  },
  {
   "cell_type": "code",
   "execution_count": 60,
   "metadata": {
    "collapsed": false
   },
   "outputs": [
    {
     "data": {
      "text/plain": [
       "KMeans(algorithm='auto', copy_x=True, init='k-means++', max_iter=300,\n",
       "    n_clusters=10, n_init=15, n_jobs=1, precompute_distances='auto',\n",
       "    random_state=2345, tol=0.0001, verbose=0)"
      ]
     },
     "execution_count": 60,
     "metadata": {},
     "output_type": "execute_result"
    }
   ],
   "source": [
    "kmeans.fit(interest_df_z)"
   ]
  },
  {
   "cell_type": "code",
   "execution_count": 61,
   "metadata": {
    "collapsed": true
   },
   "outputs": [],
   "source": [
    "centroids = kmeans.cluster_centers_"
   ]
  },
  {
   "cell_type": "code",
   "execution_count": 62,
   "metadata": {
    "collapsed": false
   },
   "outputs": [],
   "source": [
    "centroid_df = pd.DataFrame(centroids, columns = list(interest_df_z) )"
   ]
  },
  {
   "cell_type": "code",
   "execution_count": 63,
   "metadata": {
    "collapsed": false,
    "scrolled": true
   },
   "outputs": [
    {
     "data": {
      "text/html": [
       "<div>\n",
       "<style>\n",
       "    .dataframe thead tr:only-child th {\n",
       "        text-align: right;\n",
       "    }\n",
       "\n",
       "    .dataframe thead th {\n",
       "        text-align: left;\n",
       "    }\n",
       "\n",
       "    .dataframe tbody tr th {\n",
       "        vertical-align: top;\n",
       "    }\n",
       "</style>\n",
       "<table border=\"1\" class=\"dataframe\">\n",
       "  <thead>\n",
       "    <tr style=\"text-align: right;\">\n",
       "      <th></th>\n",
       "      <th>basketball</th>\n",
       "      <th>football</th>\n",
       "      <th>soccer</th>\n",
       "      <th>softball</th>\n",
       "      <th>volleyball</th>\n",
       "      <th>swimming</th>\n",
       "      <th>cheerleading</th>\n",
       "      <th>baseball</th>\n",
       "      <th>tennis</th>\n",
       "      <th>sports</th>\n",
       "      <th>...</th>\n",
       "      <th>blonde</th>\n",
       "      <th>mall</th>\n",
       "      <th>shopping</th>\n",
       "      <th>clothes</th>\n",
       "      <th>hollister</th>\n",
       "      <th>abercrombie</th>\n",
       "      <th>die</th>\n",
       "      <th>death</th>\n",
       "      <th>drunk</th>\n",
       "      <th>drugs</th>\n",
       "    </tr>\n",
       "  </thead>\n",
       "  <tbody>\n",
       "    <tr>\n",
       "      <th>0</th>\n",
       "      <td>0.633233</td>\n",
       "      <td>0.178900</td>\n",
       "      <td>-0.025690</td>\n",
       "      <td>6.129584</td>\n",
       "      <td>0.604357</td>\n",
       "      <td>0.098377</td>\n",
       "      <td>-0.005926</td>\n",
       "      <td>0.157782</td>\n",
       "      <td>-0.049483</td>\n",
       "      <td>0.519019</td>\n",
       "      <td>...</td>\n",
       "      <td>0.014703</td>\n",
       "      <td>0.116822</td>\n",
       "      <td>0.238682</td>\n",
       "      <td>0.166285</td>\n",
       "      <td>0.016814</td>\n",
       "      <td>0.009366</td>\n",
       "      <td>-0.017283</td>\n",
       "      <td>0.075957</td>\n",
       "      <td>-0.040724</td>\n",
       "      <td>-0.007711</td>\n",
       "    </tr>\n",
       "    <tr>\n",
       "      <th>1</th>\n",
       "      <td>0.077076</td>\n",
       "      <td>0.075409</td>\n",
       "      <td>0.103200</td>\n",
       "      <td>-0.163077</td>\n",
       "      <td>0.026208</td>\n",
       "      <td>0.100115</td>\n",
       "      <td>-0.100599</td>\n",
       "      <td>-0.027297</td>\n",
       "      <td>6.580738</td>\n",
       "      <td>0.179117</td>\n",
       "      <td>...</td>\n",
       "      <td>0.017875</td>\n",
       "      <td>-0.071476</td>\n",
       "      <td>0.066201</td>\n",
       "      <td>0.064527</td>\n",
       "      <td>-0.063828</td>\n",
       "      <td>-0.012284</td>\n",
       "      <td>-0.065495</td>\n",
       "      <td>0.033529</td>\n",
       "      <td>-0.064929</td>\n",
       "      <td>-0.064388</td>\n",
       "    </tr>\n",
       "    <tr>\n",
       "      <th>2</th>\n",
       "      <td>-0.192724</td>\n",
       "      <td>-0.222587</td>\n",
       "      <td>-0.127528</td>\n",
       "      <td>-0.139145</td>\n",
       "      <td>-0.120441</td>\n",
       "      <td>-0.099307</td>\n",
       "      <td>-0.113836</td>\n",
       "      <td>-0.145085</td>\n",
       "      <td>-0.120301</td>\n",
       "      <td>-0.162654</td>\n",
       "      <td>...</td>\n",
       "      <td>-0.029739</td>\n",
       "      <td>-0.203647</td>\n",
       "      <td>-0.249008</td>\n",
       "      <td>-0.201841</td>\n",
       "      <td>-0.159390</td>\n",
       "      <td>-0.149693</td>\n",
       "      <td>-0.095537</td>\n",
       "      <td>-0.082624</td>\n",
       "      <td>-0.092355</td>\n",
       "      <td>-0.114883</td>\n",
       "    </tr>\n",
       "    <tr>\n",
       "      <th>3</th>\n",
       "      <td>-0.015945</td>\n",
       "      <td>-0.009980</td>\n",
       "      <td>-0.044198</td>\n",
       "      <td>-0.077931</td>\n",
       "      <td>-0.005563</td>\n",
       "      <td>0.275401</td>\n",
       "      <td>0.383795</td>\n",
       "      <td>-0.082583</td>\n",
       "      <td>-0.077719</td>\n",
       "      <td>-0.082830</td>\n",
       "      <td>...</td>\n",
       "      <td>0.021534</td>\n",
       "      <td>0.724073</td>\n",
       "      <td>0.932762</td>\n",
       "      <td>0.566220</td>\n",
       "      <td>-0.032690</td>\n",
       "      <td>-0.062663</td>\n",
       "      <td>0.056195</td>\n",
       "      <td>0.129627</td>\n",
       "      <td>0.049743</td>\n",
       "      <td>-0.056258</td>\n",
       "    </tr>\n",
       "    <tr>\n",
       "      <th>4</th>\n",
       "      <td>1.228033</td>\n",
       "      <td>1.488392</td>\n",
       "      <td>1.019097</td>\n",
       "      <td>0.031380</td>\n",
       "      <td>0.749465</td>\n",
       "      <td>0.070315</td>\n",
       "      <td>0.083263</td>\n",
       "      <td>1.186566</td>\n",
       "      <td>-0.046921</td>\n",
       "      <td>1.001811</td>\n",
       "      <td>...</td>\n",
       "      <td>0.031805</td>\n",
       "      <td>-0.035563</td>\n",
       "      <td>-0.041385</td>\n",
       "      <td>-0.063429</td>\n",
       "      <td>-0.105313</td>\n",
       "      <td>-0.128418</td>\n",
       "      <td>-0.072198</td>\n",
       "      <td>-0.059169</td>\n",
       "      <td>-0.084506</td>\n",
       "      <td>-0.084209</td>\n",
       "    </tr>\n",
       "    <tr>\n",
       "      <th>5</th>\n",
       "      <td>-0.081965</td>\n",
       "      <td>0.066894</td>\n",
       "      <td>-0.111517</td>\n",
       "      <td>-0.059701</td>\n",
       "      <td>-0.067672</td>\n",
       "      <td>0.042993</td>\n",
       "      <td>-0.116972</td>\n",
       "      <td>-0.112056</td>\n",
       "      <td>-0.049078</td>\n",
       "      <td>-0.092515</td>\n",
       "      <td>...</td>\n",
       "      <td>-0.010173</td>\n",
       "      <td>-0.090370</td>\n",
       "      <td>-0.052494</td>\n",
       "      <td>-0.004656</td>\n",
       "      <td>-0.171696</td>\n",
       "      <td>-0.139933</td>\n",
       "      <td>0.000104</td>\n",
       "      <td>0.037949</td>\n",
       "      <td>-0.091030</td>\n",
       "      <td>-0.060334</td>\n",
       "    </tr>\n",
       "    <tr>\n",
       "      <th>6</th>\n",
       "      <td>0.137283</td>\n",
       "      <td>0.208062</td>\n",
       "      <td>0.095661</td>\n",
       "      <td>-0.026394</td>\n",
       "      <td>0.174838</td>\n",
       "      <td>0.233311</td>\n",
       "      <td>0.410166</td>\n",
       "      <td>0.016116</td>\n",
       "      <td>0.027472</td>\n",
       "      <td>0.086337</td>\n",
       "      <td>...</td>\n",
       "      <td>0.063341</td>\n",
       "      <td>0.593946</td>\n",
       "      <td>0.788868</td>\n",
       "      <td>0.572594</td>\n",
       "      <td>4.149646</td>\n",
       "      <td>3.993850</td>\n",
       "      <td>0.054952</td>\n",
       "      <td>0.081750</td>\n",
       "      <td>0.042870</td>\n",
       "      <td>0.043782</td>\n",
       "    </tr>\n",
       "    <tr>\n",
       "      <th>7</th>\n",
       "      <td>0.089985</td>\n",
       "      <td>0.042180</td>\n",
       "      <td>-0.012242</td>\n",
       "      <td>-0.050383</td>\n",
       "      <td>-0.019989</td>\n",
       "      <td>0.070680</td>\n",
       "      <td>0.000397</td>\n",
       "      <td>-0.033211</td>\n",
       "      <td>0.008796</td>\n",
       "      <td>-0.047647</td>\n",
       "      <td>...</td>\n",
       "      <td>0.005170</td>\n",
       "      <td>-0.072012</td>\n",
       "      <td>0.040695</td>\n",
       "      <td>0.011311</td>\n",
       "      <td>-0.096726</td>\n",
       "      <td>-0.114240</td>\n",
       "      <td>0.266334</td>\n",
       "      <td>0.364641</td>\n",
       "      <td>0.047282</td>\n",
       "      <td>0.053909</td>\n",
       "    </tr>\n",
       "    <tr>\n",
       "      <th>8</th>\n",
       "      <td>0.331875</td>\n",
       "      <td>0.344425</td>\n",
       "      <td>0.105548</td>\n",
       "      <td>0.042440</td>\n",
       "      <td>0.102093</td>\n",
       "      <td>0.268125</td>\n",
       "      <td>0.171245</td>\n",
       "      <td>0.241040</td>\n",
       "      <td>0.066466</td>\n",
       "      <td>0.740697</td>\n",
       "      <td>...</td>\n",
       "      <td>0.187696</td>\n",
       "      <td>0.597415</td>\n",
       "      <td>0.238723</td>\n",
       "      <td>1.174706</td>\n",
       "      <td>0.170814</td>\n",
       "      <td>0.274997</td>\n",
       "      <td>1.760589</td>\n",
       "      <td>0.937699</td>\n",
       "      <td>1.937795</td>\n",
       "      <td>2.851011</td>\n",
       "    </tr>\n",
       "    <tr>\n",
       "      <th>9</th>\n",
       "      <td>-0.332217</td>\n",
       "      <td>2.477795</td>\n",
       "      <td>-0.242874</td>\n",
       "      <td>-0.217928</td>\n",
       "      <td>-0.223670</td>\n",
       "      <td>1.674334</td>\n",
       "      <td>-0.207327</td>\n",
       "      <td>-0.201131</td>\n",
       "      <td>-0.168939</td>\n",
       "      <td>-0.297123</td>\n",
       "      <td>...</td>\n",
       "      <td>168.307291</td>\n",
       "      <td>-0.369915</td>\n",
       "      <td>-0.487314</td>\n",
       "      <td>1.801613</td>\n",
       "      <td>-0.201476</td>\n",
       "      <td>-0.183032</td>\n",
       "      <td>9.312807</td>\n",
       "      <td>13.475099</td>\n",
       "      <td>14.812744</td>\n",
       "      <td>-0.174908</td>\n",
       "    </tr>\n",
       "  </tbody>\n",
       "</table>\n",
       "<p>10 rows × 36 columns</p>\n",
       "</div>"
      ],
      "text/plain": [
       "   basketball  football    soccer  softball  volleyball  swimming  \\\n",
       "0    0.633233  0.178900 -0.025690  6.129584    0.604357  0.098377   \n",
       "1    0.077076  0.075409  0.103200 -0.163077    0.026208  0.100115   \n",
       "2   -0.192724 -0.222587 -0.127528 -0.139145   -0.120441 -0.099307   \n",
       "3   -0.015945 -0.009980 -0.044198 -0.077931   -0.005563  0.275401   \n",
       "4    1.228033  1.488392  1.019097  0.031380    0.749465  0.070315   \n",
       "5   -0.081965  0.066894 -0.111517 -0.059701   -0.067672  0.042993   \n",
       "6    0.137283  0.208062  0.095661 -0.026394    0.174838  0.233311   \n",
       "7    0.089985  0.042180 -0.012242 -0.050383   -0.019989  0.070680   \n",
       "8    0.331875  0.344425  0.105548  0.042440    0.102093  0.268125   \n",
       "9   -0.332217  2.477795 -0.242874 -0.217928   -0.223670  1.674334   \n",
       "\n",
       "   cheerleading  baseball    tennis    sports    ...         blonde      mall  \\\n",
       "0     -0.005926  0.157782 -0.049483  0.519019    ...       0.014703  0.116822   \n",
       "1     -0.100599 -0.027297  6.580738  0.179117    ...       0.017875 -0.071476   \n",
       "2     -0.113836 -0.145085 -0.120301 -0.162654    ...      -0.029739 -0.203647   \n",
       "3      0.383795 -0.082583 -0.077719 -0.082830    ...       0.021534  0.724073   \n",
       "4      0.083263  1.186566 -0.046921  1.001811    ...       0.031805 -0.035563   \n",
       "5     -0.116972 -0.112056 -0.049078 -0.092515    ...      -0.010173 -0.090370   \n",
       "6      0.410166  0.016116  0.027472  0.086337    ...       0.063341  0.593946   \n",
       "7      0.000397 -0.033211  0.008796 -0.047647    ...       0.005170 -0.072012   \n",
       "8      0.171245  0.241040  0.066466  0.740697    ...       0.187696  0.597415   \n",
       "9     -0.207327 -0.201131 -0.168939 -0.297123    ...     168.307291 -0.369915   \n",
       "\n",
       "   shopping   clothes  hollister  abercrombie       die      death      drunk  \\\n",
       "0  0.238682  0.166285   0.016814     0.009366 -0.017283   0.075957  -0.040724   \n",
       "1  0.066201  0.064527  -0.063828    -0.012284 -0.065495   0.033529  -0.064929   \n",
       "2 -0.249008 -0.201841  -0.159390    -0.149693 -0.095537  -0.082624  -0.092355   \n",
       "3  0.932762  0.566220  -0.032690    -0.062663  0.056195   0.129627   0.049743   \n",
       "4 -0.041385 -0.063429  -0.105313    -0.128418 -0.072198  -0.059169  -0.084506   \n",
       "5 -0.052494 -0.004656  -0.171696    -0.139933  0.000104   0.037949  -0.091030   \n",
       "6  0.788868  0.572594   4.149646     3.993850  0.054952   0.081750   0.042870   \n",
       "7  0.040695  0.011311  -0.096726    -0.114240  0.266334   0.364641   0.047282   \n",
       "8  0.238723  1.174706   0.170814     0.274997  1.760589   0.937699   1.937795   \n",
       "9 -0.487314  1.801613  -0.201476    -0.183032  9.312807  13.475099  14.812744   \n",
       "\n",
       "      drugs  \n",
       "0 -0.007711  \n",
       "1 -0.064388  \n",
       "2 -0.114883  \n",
       "3 -0.056258  \n",
       "4 -0.084209  \n",
       "5 -0.060334  \n",
       "6  0.043782  \n",
       "7  0.053909  \n",
       "8  2.851011  \n",
       "9 -0.174908  \n",
       "\n",
       "[10 rows x 36 columns]"
      ]
     },
     "execution_count": 63,
     "metadata": {},
     "output_type": "execute_result"
    }
   ],
   "source": [
    "centroid_df"
   ]
  },
  {
   "cell_type": "markdown",
   "metadata": {
    "collapsed": true
   },
   "source": [
    "Let us put the centroids back to the teens data frame and extract other information which were not included in clustering"
   ]
  },
  {
   "cell_type": "markdown",
   "metadata": {},
   "source": [
    "kmeans.labels_\n",
    "pd.DataFrame(kmeans.labels_, columns = \"label\")"
   ]
  },
  {
   "cell_type": "code",
   "execution_count": 64,
   "metadata": {
    "collapsed": true
   },
   "outputs": [],
   "source": [
    "## creating a new dataframe only for labels and converting it into categorical variable\n",
    "teens_labels = pd.DataFrame(kmeans.labels_ , columns = list(['labels']))\n",
    "\n",
    "teens_labels['labels'] = teens_labels['labels'].astype('category')"
   ]
  },
  {
   "cell_type": "code",
   "execution_count": 65,
   "metadata": {
    "collapsed": false
   },
   "outputs": [],
   "source": [
    "# Joining the label dataframe with the teens data frame to create teens_df_labeled. Note: it could be appended to original dataframe\n",
    "teens_df_labeled = teens_df.join(teens_labels)"
   ]
  },
  {
   "cell_type": "code",
   "execution_count": 71,
   "metadata": {
    "collapsed": false
   },
   "outputs": [
    {
     "data": {
      "text/plain": [
       "pandas.core.frame.DataFrame"
      ]
     },
     "execution_count": 71,
     "metadata": {},
     "output_type": "execute_result"
    }
   ],
   "source": [
    "teen_analysis = (teens_df_labeled.groupby(['labels'] , axis=0)).head(30000)  # the groupby creates a groupeddataframe that needs \n",
    "# to be converted back to dataframe. I am using .head(30000) for that\n",
    "teen_analysis"
   ]
  },
  {
   "cell_type": "code",
   "execution_count": null,
   "metadata": {
    "collapsed": true
   },
   "outputs": [],
   "source": []
  }
 ],
 "metadata": {
  "kernelspec": {
   "display_name": "Python 3",
   "language": "python",
   "name": "python3"
  },
  "language_info": {
   "codemirror_mode": {
    "name": "ipython",
    "version": 3
   },
   "file_extension": ".py",
   "mimetype": "text/x-python",
   "name": "python",
   "nbconvert_exporter": "python",
   "pygments_lexer": "ipython3",
   "version": "3.6.0"
  }
 },
 "nbformat": 4,
 "nbformat_minor": 2
}
